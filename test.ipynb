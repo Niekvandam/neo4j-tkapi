{
 "cells": [
  {
   "cell_type": "code",
   "execution_count": 2,
   "metadata": {},
   "outputs": [
    {
     "name": "stdout",
     "output_type": "stream",
     "text": [
      "1\n",
      "cc3fce07-f191-45b0-8c75-b0a47d03965f 3\n",
      "DEBUG: vergadering cc3fce07-f191-45b0-8c75-b0a47d03965f – found 3 activiteit elements\n"
     ]
    }
   ],
   "source": [
    "import xml.etree.ElementTree as ET\n",
    "NS = {\"vlos\": \"http://www.tweedekamer.nl/ggm/vergaderverslag/v1.0\"}\n",
    "root = ET.parse(\"sample_vlos_3ad601d2-ac2d-4fec-9a9c-2dda28a6ca38_d35df127-e439-4538-8954-0205f56e7636.xml\").getroot()\n",
    "vergaderingen = root.findall(\".//vlos:vergadering\", NS)\n",
    "print(len(vergaderingen))\n",
    "\n",
    "for vg in vergaderingen:\n",
    "    acts = vg.findall(\".//vlos:activiteit\", NS)\n",
    "    print(vg.get(\"objectid\"), len(acts))\n",
    "\n",
    "for vg in vergaderingen:\n",
    "    acts = vg.findall(\".//vlos:activiteit\", NS)\n",
    "    print(vg.get(\"objectid\"), len(acts))"
   ]
  }
 ],
 "metadata": {
  "kernelspec": {
   "display_name": "venv",
   "language": "python",
   "name": "python3"
  },
  "language_info": {
   "codemirror_mode": {
    "name": "ipython",
    "version": 3
   },
   "file_extension": ".py",
   "mimetype": "text/x-python",
   "name": "python",
   "nbconvert_exporter": "python",
   "pygments_lexer": "ipython3",
   "version": "3.12.8"
  }
 },
 "nbformat": 4,
 "nbformat_minor": 2
}
